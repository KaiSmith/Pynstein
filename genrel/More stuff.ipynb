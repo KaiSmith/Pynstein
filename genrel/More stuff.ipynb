{
 "metadata": {
  "name": "More stuff"
 }, 
 "nbformat": 2, 
 "worksheets": [
  {
   "cells": [
    {
     "cell_type": "code", 
     "collapsed": false, 
     "input": [
      "from GR import *", 
      "from numpy import *", 
      "from sympy import *", 
      "", 
      "p1 = Symbol('p1')", 
      "p2 = Symbol('p2')", 
      "p3 = Symbol('p3')", 
      "a = Symbol('a')", 
      "b = Symbol('b')", 
      "c = Symbol('c')", 
      "adot = Symbol('adot')", 
      "bdot = Symbol('bdot')", 
      "cdot = Symbol('cdot')", 
      "bdotdot = p3/(c**2*a)-adot*bdot/a-b*Symbol('adotdot')/a", 
      "cdotdot = p1/(a**2*b)-bdot*cdot/b-c*bdotdot/b", 
      "adotdot = p2/(b**2*c)-adot*cdot/c-a*cdotdot/c", 
      "print(simplify(adotdot))"
     ], 
     "language": "python", 
     "outputs": [
      {
       "output_type": "stream", 
       "stream": "stdout", 
       "text": [
        "a*bdot*cdot/(b*c) - adot*cdot/c - adot*bdot/b - adotdot + p3/(b*c**2) + p2/(b**2*c) - p1/(a*b*c)"
       ]
      }
     ], 
     "prompt_number": 4
    }, 
    {
     "cell_type": "code", 
     "collapsed": true, 
     "input": [], 
     "language": "python", 
     "outputs": []
    }
   ]
  }
 ]
}